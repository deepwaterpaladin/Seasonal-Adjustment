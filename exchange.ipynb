{
 "cells": [
  {
   "cell_type": "code",
   "execution_count": null,
   "metadata": {},
   "outputs": [],
   "source": [
    "from exchange_rate import *\n",
    "\n",
    "test = AUD()\n",
    "test.plot_AUD()\n",
    "test.seven_day_plot()\n",
    "test.fourteen_day_plot()\n",
    "test.thirty_day_plot()\n",
    "test.ninety_day_plot()\n",
    "test.one_year_plot()\n",
    "test.three_year_plot()"
   ]
  },
  {
   "cell_type": "code",
   "execution_count": null,
   "metadata": {},
   "outputs": [],
   "source": [
    "test = YUAN()\n",
    "test.plot_YUAN()\n",
    "test.seven_day_plot()\n",
    "test.fourteen_day_plot()\n",
    "test.thirty_day_plot()\n",
    "test.ninety_day_plot()\n",
    "test.one_year_plot()\n",
    "test.three_year_plot()"
   ]
  },
  {
   "cell_type": "code",
   "execution_count": null,
   "metadata": {},
   "outputs": [],
   "source": [
    "test = INR()\n",
    "test.plot_INR()\n",
    "test.seven_day_plot()\n",
    "test.fourteen_day_plot()\n",
    "test.thirty_day_plot()\n",
    "test.ninety_day_plot()\n",
    "test.one_year_plot()\n",
    "test.three_year_plot()"
   ]
  },
  {
   "cell_type": "code",
   "execution_count": null,
   "metadata": {},
   "outputs": [],
   "source": [
    "test = RUB()\n",
    "test.plot_RUB()\n",
    "test.seven_day_plot()\n",
    "test.fourteen_day_plot()\n",
    "test.thirty_day_plot()\n",
    "test.ninety_day_plot()\n",
    "test.one_year_plot()\n",
    "test.three_year_plot()"
   ]
  },
  {
   "cell_type": "code",
   "execution_count": null,
   "metadata": {},
   "outputs": [],
   "source": [
    "test = ZAR()\n",
    "test.plot_ZAR()\n",
    "test.seven_day_plot()\n",
    "test.fourteen_day_plot()\n",
    "test.thirty_day_plot()\n",
    "test.ninety_day_plot()\n",
    "test.one_year_plot()\n",
    "test.three_year_plot()"
   ]
  },
  {
   "cell_type": "code",
   "execution_count": null,
   "metadata": {},
   "outputs": [],
   "source": [
    "test = KRW()\n",
    "test.plot_KRW()\n",
    "test.seven_day_plot()\n",
    "test.fourteen_day_plot()\n",
    "test.thirty_day_plot()\n",
    "test.ninety_day_plot()\n",
    "test.one_year_plot()\n",
    "test.three_year_plot()"
   ]
  },
  {
   "cell_type": "code",
   "execution_count": null,
   "metadata": {},
   "outputs": [],
   "source": [
    "test = TRY()\n",
    "test.plot_TRY()\n",
    "test.seven_day_plot()\n",
    "test.fourteen_day_plot()\n",
    "test.thirty_day_plot()\n",
    "test.ninety_day_plot()\n",
    "test.one_year_plot()\n",
    "test.three_year_plot()"
   ]
  },
  {
   "cell_type": "code",
   "execution_count": null,
   "metadata": {},
   "outputs": [],
   "source": [
    "test = GBP()\n",
    "test.plot_GBP()\n",
    "test.seven_day_plot()\n",
    "test.fourteen_day_plot()\n",
    "test.thirty_day_plot()\n",
    "test.ninety_day_plot()\n",
    "test.one_year_plot()\n",
    "test.three_year_plot()"
   ]
  },
  {
   "cell_type": "code",
   "execution_count": null,
   "metadata": {},
   "outputs": [],
   "source": [
    "test = USD()\n",
    "test.plot_USD()\n",
    "test.seven_day_plot()\n",
    "test.fourteen_day_plot()\n",
    "test.thirty_day_plot()\n",
    "test.ninety_day_plot()\n",
    "test.one_year_plot()\n",
    "test.three_year_plot()"
   ]
  }
 ],
 "metadata": {
  "interpreter": {
   "hash": "31f2aee4e71d21fbe5cf8b01ff0e069b9275f58929596ceb00d14d90e3e16cd6"
  },
  "kernelspec": {
   "display_name": "Python 3 (ipykernel)",
   "language": "python",
   "name": "python3"
  },
  "language_info": {
   "codemirror_mode": {
    "name": "ipython",
    "version": 3
   },
   "file_extension": ".py",
   "mimetype": "text/x-python",
   "name": "python",
   "nbconvert_exporter": "python",
   "pygments_lexer": "ipython3",
   "version": "3.9.7"
  },
  "orig_nbformat": 4
 },
 "nbformat": 4,
 "nbformat_minor": 2
}
